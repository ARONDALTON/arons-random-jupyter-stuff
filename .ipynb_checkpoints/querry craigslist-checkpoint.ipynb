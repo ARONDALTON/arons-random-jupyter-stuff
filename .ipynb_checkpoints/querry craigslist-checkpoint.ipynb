{
 "cells": [
  {
   "cell_type": "code",
   "execution_count": 1,
   "metadata": {},
   "outputs": [
    {
     "name": "stdout",
     "output_type": "stream",
     "text": [
      "Populating the interactive namespace from numpy and matplotlib\n"
     ]
    }
   ],
   "source": [
    "import pandas as pd\n",
    "%pylab inline"
   ]
  },
  {
   "cell_type": "code",
   "execution_count": 2,
   "metadata": {
    "collapsed": true
   },
   "outputs": [],
   "source": [
    "import requests"
   ]
  },
  {
   "cell_type": "code",
   "execution_count": 107,
   "metadata": {},
   "outputs": [
    {
     "name": "stdout",
     "output_type": "stream",
     "text": [
      "Writing my_server.py\n"
     ]
    }
   ],
   "source": [
    "%%writefile my_server.py\n",
    "\n",
    "import os\n",
    "import logging.config\n",
    "\n",
    "import yaml\n",
    "\n",
    "def setup_logging(\n",
    "    default_path='logging.yaml',\n",
    "    default_level=logging.INFO,\n",
    "    env_key='LOG_CFG'\n",
    "):\n",
    "    \"\"\"Setup logging configuration\n",
    "\n",
    "    \"\"\"\n",
    "    path = default_path\n",
    "    value = os.getenv(env_key, None)\n",
    "    if value:\n",
    "        path = value\n",
    "    if os.path.exists(path):\n",
    "        with open(path, 'rt') as f:\n",
    "            config = yaml.safe_load(f.read())\n",
    "        logging.config.dictConfig(config)\n",
    "    else:\n",
    "        logging.basicConfig(level=default_level)\n",
    "\n",
    "\n",
    "# # create a file handler\n",
    "# handler = logging.FileHandler('hello.log')\n",
    "# handler.setLevel(logging.INFO)\n",
    "\n",
    "# # create a logging format\n",
    "# formatter = logging.Formatter('%(asctime)s - %(name)s - %(levelname)s - %(message)s')\n",
    "# handler.setFormatter(formatter)\n",
    "\n",
    "# # add the handlers to the logger\n",
    "# logger.addHandler(handler)"
   ]
  },
  {
   "cell_type": "code",
   "execution_count": 131,
   "metadata": {
    "collapsed": true
   },
   "outputs": [],
   "source": [
    "%run my_server.py LOG_CFG=logging.yaml level=DEBUG"
   ]
  },
  {
   "cell_type": "raw",
   "metadata": {},
   "source": [
    "import logging\n",
    "#logging.basicConfig(level=logging.DEBUG)\n",
    "#logging.basicConfig(level=logging.DEBUG)\n",
    "#logging.basicConfig(level=logging.DEBUG, format='[root] %(levelname)s - %(message)s')\n",
    "logging.getLogger().setLevel(logging.DEBUG)\n",
    "logger = logging.getLogger(__name__)\n",
    "\n",
    "logger.info('Start reading database')\n",
    "# read database here\n",
    "records = {'john': 55, 'tom': 66}\n",
    "logger.debug('Records: %s', records)\n",
    "logger.info('Updating records ...')\n",
    "# update records here\n",
    "logger.info('Finish updating records')\n"
   ]
  },
  {
   "cell_type": "code",
   "execution_count": null,
   "metadata": {
    "collapsed": true
   },
   "outputs": [],
   "source": [
    "import logging\n",
    "#logging.basicConfig(level=logging.INFO)\n",
    "logging.basicConfig(level=logging.INFO, format='[root] %(levelname)s - %(message)s')\n",
    "logging.getLogger().setLevel(logging.DEBUG)\n",
    "logger = logging.getLogger(__name__)"
   ]
  },
  {
   "cell_type": "code",
   "execution_count": 137,
   "metadata": {
    "collapsed": true
   },
   "outputs": [],
   "source": [
    "wants=['Siglent SSA3021X','Tektronix RSA306','Signal Hound BB60C','RF Explorer','spectrum analyzer']"
   ]
  },
  {
   "cell_type": "code",
   "execution_count": 3,
   "metadata": {
    "collapsed": true
   },
   "outputs": [],
   "source": [
    "url_base = 'https://vancouver.craigslist.ca/search/sss'\n",
    "params = dict(search_distance=200,postal=v8k2p4)\n",
    "rsp = requests.get(url_base, params=params)"
   ]
  },
  {
   "cell_type": "code",
   "execution_count": null,
   "metadata": {
    "collapsed": true
   },
   "outputs": [],
   "source": []
  },
  {
   "cell_type": "markdown",
   "metadata": {},
   "source": [
    "Example "
   ]
  },
  {
   "cell_type": "code",
   "execution_count": 24,
   "metadata": {
    "collapsed": true
   },
   "outputs": [],
   "source": [
    "url_base = 'http://sfbay.craigslist.org/search/eby/apa'\n",
    "params = dict(bedrooms=1, is_furnished=0)\n",
    "rsp = requests.get(url_base, params=params)"
   ]
  },
  {
   "cell_type": "code",
   "execution_count": 25,
   "metadata": {},
   "outputs": [
    {
     "name": "stdout",
     "output_type": "stream",
     "text": [
      "https://sfbay.craigslist.org/search/eby/apa?bedrooms=1&is_furnished=0\n"
     ]
    }
   ],
   "source": [
    "print(rsp.url)"
   ]
  },
  {
   "cell_type": "code",
   "execution_count": 26,
   "metadata": {},
   "outputs": [
    {
     "name": "stdout",
     "output_type": "stream",
     "text": [
      "﻿<!DOCTYPE html>\n",
      "<html class=\"no-js\"><head>\n",
      "    <title>SF bay area apts/housing for rent  - craigslist</title>\n",
      "\n",
      "    <meta name=\"description\" content=\"SF bay area apts/housing for rent  - craigslist\">\n",
      "    <meta http-equiv=\"X-UA-Compatible\" content=\"IE=Edge\"/>\n",
      "    <link rel=\"canonical\" href=\"https://sfbay.craigslist.org/search/eby/apa\">\n",
      "    <link rel=\"alternate\" type=\"application/rss+xml\" href=\"https://sfbay.craigslist.org/search/eby/apa?format=rss&amp;is_furnished=0&amp;min_bedrooms=1\" title=\"RSS\n"
     ]
    }
   ],
   "source": [
    "print(rsp.text[:500])"
   ]
  },
  {
   "cell_type": "code",
   "execution_count": 27,
   "metadata": {
    "collapsed": true
   },
   "outputs": [],
   "source": [
    "from bs4 import BeautifulSoup as bs4\n"
   ]
  },
  {
   "cell_type": "code",
   "execution_count": 28,
   "metadata": {
    "collapsed": true
   },
   "outputs": [],
   "source": [
    "html = bs4(rsp.text, 'html.parser')\n"
   ]
  },
  {
   "cell_type": "code",
   "execution_count": 29,
   "metadata": {},
   "outputs": [
    {
     "name": "stdout",
     "output_type": "stream",
     "text": [
      "﻿\n",
      "<!DOCTYPE html>\n",
      "<html class=\"no-js\">\n",
      " <head>\n",
      "  <title>\n",
      "   SF bay area apts/housing for rent  - craigslist\n",
      "  </title>\n",
      "  <meta content=\"SF bay area apts/housing for rent  - craigslist\" name=\"description\"/>\n",
      "  <meta content=\"IE=Edge\" http-equiv=\"X-UA-Compatible\">\n",
      "   <link href=\"https://sfbay.craigslist.org/search/eby/apa\" rel=\"canonical\"/>\n",
      "   <link href=\"https://sfbay.craigslist.org/search/eby/apa?format=rss&amp;is_furnished=0&amp;min_bedrooms=1\" rel=\"alternate\" title=\"RSS feed for craigslist | SF bay area apts/housing for rent  - craigslist\" type=\"application/rss+xml\"/>\n",
      "   <link href=\"https://sfbay.craigslist.org/search/eby/apa?s=120&amp;is_furnished=0&amp;min_bedrooms=1\" rel=\"next\"/>\n",
      "   <meta content=\"width=device-width,initial-scale=1\" name=\"viewport\"/>\n",
      "   <link href=\"//www.craigslist.org/styles/cl.css?v=4a33eaa2c5e2f9087278bddd0bcfce91\" media=\"all\" rel=\"stylesheet\" type=\"text/css\"/>\n",
      "   <link href=\"//www.craigslist.org/styles/search.css?v=27e1d4246df60da5ffd1146d59a8107e\" media=\"all\" \n"
     ]
    }
   ],
   "source": [
    "print(html.prettify()[:1000])"
   ]
  },
  {
   "cell_type": "code",
   "execution_count": 30,
   "metadata": {},
   "outputs": [
    {
     "name": "stdout",
     "output_type": "stream",
     "text": [
      "120\n"
     ]
    }
   ],
   "source": [
    "# find_all will pull entries that fit your search criteria.\n",
    "# Note that we have to use brackets to define the `attrs` dictionary\n",
    "# Because \"class\" is a special word in python, so we need to give a string.\n",
    "apts = html.find_all('li', attrs={'class': 'result-row'})\n",
    "print(len(apts))"
   ]
  },
  {
   "cell_type": "code",
   "execution_count": 31,
   "metadata": {},
   "outputs": [
    {
     "name": "stdout",
     "output_type": "stream",
     "text": [
      "<li class=\"result-row\" data-pid=\"6369990805\">\n",
      " <a class=\"result-image gallery\" data-ids=\"1:00Q0Q_c1VKledFQY6,1:00W0W_386WLQro822,1:00m0m_aP9i6eAjFV3,1:01212_6bPL9mOUWvP,1:00p0p_igHq9wzX3uZ,1:00y0y_5QJaZ82jxX8,1:00505_jjzFqfSP35y,1:00b0b_f7c6pgBV0F1,1:00w0w_6eZgGU2rZxl,1:00m0m_bRy1VRQ36UV,1:00303_lnkdclnLRTC,1:00606_8iEfWMYZ1cy,1:00O0O_c8CPd6R6TPP,1:00x0x_iom6Q7lSpq3,1:00r0r_A6c4zTXjx2,1:00S0S_jBBJzg3il2P,1:00X0X_amC7mE4vjXh,1:00C0C_lPx1snVvNmn,1:00W0W_dG1asmZST3y,1:00g0g_7s8EFpDCUfy\" href=\"https://sfbay.craigslist.org/eby/apa/d/completely-remodeled-one/6369990805.html\">\n",
      "  <span class=\"result-price\">\n",
      "   $3995\n",
      "  </span>\n",
      " </a>\n",
      " <p class=\"result-info\">\n",
      "  <span class=\"icon icon-star\" role=\"button\">\n",
      "   <span class=\"screen-reader-text\">\n",
      "    favorite this post\n",
      "   </span>\n",
      "  </span>\n",
      "  <time class=\"result-date\" datetime=\"2017-11-15 12:15\" title=\"Wed 15 Nov 12:15:46 PM\">\n",
      "   Nov 15\n",
      "  </time>\n",
      "  <a class=\"result-title hdrlnk\" data-id=\"6369990805\" href=\"https://sfbay.craigslist.org/eby/apa/d/completely-remodeled-one/6369990805.html\">\n",
      "   Completely Remodeled One Story Home Located In Desirable Burton Valley\n",
      "  </a>\n",
      "  <span class=\"result-meta\">\n",
      "   <span class=\"result-price\">\n",
      "    $3995\n",
      "   </span>\n",
      "   <span class=\"housing\">\n",
      "    4br -\n",
      "                    1568ft\n",
      "    <sup>\n",
      "     2\n",
      "    </sup>\n",
      "    -\n",
      "   </span>\n",
      "   <span class=\"result-hood\">\n",
      "    (lafayette / orinda / moraga)\n",
      "   </span>\n",
      "   <span class=\"result-tags\">\n",
      "    pic\n",
      "    <span class=\"maptag\" data-pid=\"6369990805\">\n",
      "     map\n",
      "    </span>\n",
      "   </span>\n",
      "   <span class=\"banish icon icon-trash\" role=\"button\">\n",
      "    <span class=\"screen-reader-text\">\n",
      "     hide this posting\n",
      "    </span>\n",
      "   </span>\n",
      "   <span aria-hidden=\"true\" class=\"unbanish icon icon-trash red\" role=\"button\">\n",
      "   </span>\n",
      "   <a class=\"restore-link\" href=\"#\">\n",
      "    <span class=\"restore-narrow-text\">\n",
      "     restore\n",
      "    </span>\n",
      "    <span class=\"restore-wide-text\">\n",
      "     restore this posting\n",
      "    </span>\n",
      "   </a>\n",
      "  </span>\n",
      " </p>\n",
      "</li>\n",
      "\n"
     ]
    }
   ],
   "source": [
    "# We can see that there's a consistent structure to a listing.\n",
    "# There is a 'time', a 'name', a 'housing' field with size/n_brs, etc.\n",
    "this_appt = apts[15]\n",
    "print(this_appt.prettify())"
   ]
  },
  {
   "cell_type": "code",
   "execution_count": 86,
   "metadata": {},
   "outputs": [
    {
     "data": {
      "text/plain": [
       "'\\n                    4br -\\n                    1568ft2 -\\n                '"
      ]
     },
     "execution_count": 86,
     "metadata": {},
     "output_type": "execute_result"
    }
   ],
   "source": [
    "# So now we'll pull out a couple of things we might be interested in:\n",
    "# It looks like \"housing\" contains size information. We'll pull that.\n",
    "# Note that `findAll` returns a list, since there's only one entry in\n",
    "# this HTML, we'll just pull the first item.\n",
    "size = this_appt.findAll(attrs={'class': 'housing'})[0].text\n",
    "size"
   ]
  },
  {
   "cell_type": "code",
   "execution_count": 181,
   "metadata": {
    "collapsed": true
   },
   "outputs": [],
   "source": [
    "def find_size_and_brs(size):\n",
    "#     split = size.strip('-\\n').strip('/- ').split(' - ')\n",
    "    split = size.strip(' -\\n ').strip(' \\t ').strip(' ').replace('\\n','').replace('\\t','')\\\n",
    "            .replace(' ','').split('-')\n",
    "    logger.debug(split)\n",
    "    if len(split) == 2:\n",
    "        n_brs = split[0].replace('br', '')\n",
    "        this_size = split[1].replace('ft2', '')\n",
    "    elif 'br' in split[0]:\n",
    "        # It's the n_bedrooms\n",
    "        n_brs = split[0].replace('br', '')\n",
    "        this_size = np.nan\n",
    "    elif 'ft2' in split[0]:\n",
    "        # It's the size\n",
    "        this_size = split[0].replace('ft2', '')\n",
    "        n_brs = np.nan\n",
    "    return float(this_size), float(n_brs)\n",
    "this_size, n_brs = find_size_and_brs(size)"
   ]
  },
  {
   "cell_type": "code",
   "execution_count": 80,
   "metadata": {
    "collapsed": true
   },
   "outputs": [],
   "source": [
    "# Now we'll also pull a few other things:\n",
    "this_time = this_appt.find('time')['datetime']\n",
    "this_time = pd.to_datetime(this_time)\n",
    "this_price = float(this_appt.find('span', {'class': 'result-price'}).text.strip('$'))\n",
    "this_title = this_appt.find('a', attrs={'class': 'hdrlnk'}).text"
   ]
  },
  {
   "cell_type": "code",
   "execution_count": 81,
   "metadata": {},
   "outputs": [
    {
     "name": "stdout",
     "output_type": "stream",
     "text": [
      "1568.0\n",
      "4.0\n",
      "2017-11-15 12:15:00\n",
      "3995.0\n",
      "Completely Remodeled One Story Home Located In Desirable Burton Valley\n"
     ]
    }
   ],
   "source": [
    "print('\\n'.join([str(i) for i in [this_size, n_brs, this_time, this_price, this_title]]))"
   ]
  },
  {
   "cell_type": "code",
   "execution_count": 82,
   "metadata": {
    "collapsed": true
   },
   "outputs": [],
   "source": []
  },
  {
   "cell_type": "code",
   "execution_count": 163,
   "metadata": {
    "collapsed": true
   },
   "outputs": [],
   "source": [
    "def find_prices(results):\n",
    "    prices = []\n",
    "    for rw in results:\n",
    "        price = rw.find('span', {'class': 'result-price'})\n",
    "        if price is not None:\n",
    "            price = float(price.text.strip('$'))\n",
    "        else:\n",
    "            price = np.nan\n",
    "        prices.append(price)\n",
    "    return prices\n",
    "\n",
    "def find_times(results):\n",
    "    times = []\n",
    "    for rw in apts:\n",
    "        if time is not None:\n",
    "            time = time['datetime']\n",
    "            time = pd.to_datetime(time)\n",
    "        else:\n",
    "            time = np.nan\n",
    "        times.append(time)\n",
    "    return times"
   ]
  },
  {
   "cell_type": "code",
   "execution_count": 164,
   "metadata": {},
   "outputs": [
    {
     "data": {
      "text/plain": [
       "array([  0, 100, 200])"
      ]
     },
     "execution_count": 164,
     "metadata": {},
     "output_type": "execute_result"
    }
   ],
   "source": [
    "np.arange(0, 300, 100)"
   ]
  },
  {
   "cell_type": "code",
   "execution_count": 178,
   "metadata": {},
   "outputs": [
    {
     "name": "stdout",
     "output_type": "stream",
     "text": [
      "None logging.yaml\n"
     ]
    }
   ],
   "source": [
    "setup_logging()"
   ]
  },
  {
   "cell_type": "code",
   "execution_count": 188,
   "metadata": {},
   "outputs": [
    {
     "data": {
      "text/plain": [
       "'C:\\\\Users\\\\arond\\\\Documents\\\\arons random jupyter stuff'"
      ]
     },
     "execution_count": 188,
     "metadata": {},
     "output_type": "execute_result"
    }
   ],
   "source": [
    "pwd()\n"
   ]
  },
  {
   "cell_type": "code",
   "execution_count": 206,
   "metadata": {},
   "outputs": [
    {
     "name": "stderr",
     "output_type": "stream",
     "text": [
      "H:\\windows_program_files\\Anaconda3\\lib\\site-packages\\ipykernel_launcher.py:64: FutureWarning: convert_objects is deprecated.  Use the data-type specific converters pd.to_datetime, pd.to_timedelta and pd.to_numeric.\n"
     ]
    }
   ],
   "source": [
    "results = []  # We'll store the data here\n",
    "\n",
    "where_it='newyork'\n",
    "if where_it==\"sfbay\":\n",
    "    loc_prefixes = ['eby', 'nby', 'sfc', 'sby', 'scz']\n",
    "# if where_it==\"newyork\":\n",
    "#     loc_prefixes = ['eby', 'nby', 'sfc', 'sby', 'scz']\n",
    "else:#if where_it==\"toronto\" or where_it==\"victoria\" :\n",
    "    loc_prefixes = ['']\n",
    "# if where_it==\"victoria\":\n",
    "#     loc_prefixes = ['']\n",
    " \n",
    "\n",
    "# Careful with this...too many queries == your IP gets banned temporarily\n",
    "search_indices = np.arange(0, 300, 100)\n",
    "for loc in loc_prefixes:\n",
    "    logger.debug(loc)\n",
    "    for i in search_indices:\n",
    "        \n",
    "        if where_it=='sfbay':\n",
    "            url = 'https://sfbay.craigslist.org/search/{0}/apa'.format(loc)\n",
    "        if where_it=='newyork':\n",
    "            url='https://{0}.craigslist.org/search/aap'.format(where_it)\n",
    "        else:\n",
    "            url='https://{0}.craigslist.ca/search/apa'.format(where_it)\n",
    "    \n",
    "    \n",
    "        logger.debug('%s iteration, url=%s', i, url)\n",
    "        resp = requests.get(url, params={'bedrooms': 1, 's': i})\n",
    "        txt = bs4(resp.text, 'html.parser')\n",
    "        apts = txt.findAll(attrs={'class': \"result-row\"})\n",
    "        \n",
    "        # Find the size of all entries\n",
    "        size_text = [rw.findAll(attrs={'class': 'housing'})[0].text\n",
    "                     for rw in apts]\n",
    "        sizes_brs = [find_size_and_brs(stxt) for stxt in size_text]\n",
    "        logger.debug('number of bedrooms=%s', sizes_brs)\n",
    "        sizes, n_brs = zip(*sizes_brs)  # This unzips into 2 vectors\n",
    "     \n",
    "        # Find the title and link\n",
    "        title = [rw.find('a', attrs={'class': 'hdrlnk'}).text\n",
    "                      for rw in apts]\n",
    "        links = [rw.find('a', attrs={'class': 'hdrlnk'})['href']\n",
    "                 for rw in apts]\n",
    "        \n",
    "        # Find the time\n",
    "        time = [pd.to_datetime(rw.find('time')['datetime']) for rw in apts]\n",
    "        price = find_prices(apts)\n",
    "        \n",
    "        # We'll create a dataframe to store all the data\n",
    "        data = np.array([time, price, sizes, n_brs, title, links])\n",
    "        col_names = ['time', 'price', 'size', 'brs', 'title', 'link']\n",
    "        df = pd.DataFrame(data.T, columns=col_names)\n",
    "        df = df.set_index('time')\n",
    "        \n",
    "        # Add the location variable to all entries\n",
    "        df['loc'] = loc\n",
    "        results.append(df)\n",
    "\n",
    "# Finally, concatenate all the results\n",
    "results = pd.concat(results, axis=0)\n",
    "\n",
    "# We'll make sure that the right columns are represented numerically:\n",
    "results[['price', 'size', 'brs']] = results[['price', 'size', 'brs']].convert_objects(convert_numeric=True)\n",
    "# pd.to_numeric(results['price'])"
   ]
  },
  {
   "cell_type": "markdown",
   "metadata": {},
   "source": [
    "temp=results.groupby('loc')\n",
    "temp.describe()"
   ]
  },
  {
   "cell_type": "code",
   "execution_count": 189,
   "metadata": {},
   "outputs": [
    {
     "data": {
      "text/plain": [
       "<matplotlib.text.Text at 0x2c20ba9a5f8>"
      ]
     },
     "execution_count": 189,
     "metadata": {},
     "output_type": "execute_result"
    },
    {
     "data": {
      "image/png": "[encoded data removed]",
      "text/plain": [
       "<matplotlib.figure.Figure at 0x2c20b39ccf8>"
      ]
     },
     "metadata": {},
     "output_type": "display_data"
    }
   ],
   "source": [
    "ax = results.hist('price', bins=np.arange(0, 10000, 100))[0, 0]\n",
    "ax.set_title('Mother of god. Lets not move to san fran', fontsize=20)\n",
    "ax.set_xlabel('Price', fontsize=18)\n",
    "ax.set_ylabel('Count', fontsize=18)"
   ]
  },
  {
   "cell_type": "code",
   "execution_count": 208,
   "metadata": {},
   "outputs": [
    {
     "data": {
      "text/plain": [
       "<matplotlib.text.Text at 0x2c20cd258d0>"
      ]
     },
     "execution_count": 208,
     "metadata": {},
     "output_type": "execute_result"
    },
    {
     "data": {
      "image/png": "[encoded data removed]",
      "text/plain": [
       "<matplotlib.figure.Figure at 0x2c20cd1dcc0>"
      ]
     },
     "metadata": {},
     "output_type": "display_data"
    }
   ],
   "source": [
    "ax = results.hist('price', bins=np.arange(0, 10000, 100))[0, 0]\n",
    "ax.set_title('Mother of god. Lets not move to  {0}'.format(where_it), fontsize=20)\n",
    "ax.set_xlabel('Price', fontsize=18)\n",
    "ax.set_ylabel('Count', fontsize=18)"
   ]
  },
  {
   "cell_type": "code",
   "execution_count": 201,
   "metadata": {},
   "outputs": [
    {
     "data": {
      "text/plain": [
       "<matplotlib.text.Text at 0x2c20c636c88>"
      ]
     },
     "execution_count": 201,
     "metadata": {},
     "output_type": "execute_result"
    },
    {
     "data": {
      "image/png": "[encoded data removed]",
      "text/plain": [
       "<matplotlib.figure.Figure at 0x2c20b319eb8>"
      ]
     },
     "metadata": {},
     "output_type": "display_data"
    }
   ],
   "source": [
    "ax1 = results.hist('price', bins=np.arange(0, 10000, 100))[0, 0]\n",
    "ax1.set_title('Mother of god. Lets not move tooronto', fontsize=20)\n",
    "ax1.set_xlabel('Price', fontsize=18)\n",
    "ax1.set_ylabel('Count', fontsize=18)\n"
   ]
  },
  {
   "cell_type": "code",
   "execution_count": 205,
   "metadata": {},
   "outputs": [
    {
     "data": {
      "text/plain": [
       "<matplotlib.text.Text at 0x2c20b020c18>"
      ]
     },
     "execution_count": 205,
     "metadata": {},
     "output_type": "execute_result"
    },
    {
     "data": {
      "image/png": "[encoded data removed]",
      "text/plain": [
       "<matplotlib.figure.Figure at 0x2c20c03a780>"
      ]
     },
     "metadata": {},
     "output_type": "display_data"
    }
   ],
   "source": [
    "ax1 = results.hist('price', bins=np.arange(0, 10000, 100))[0, 0]\n",
    "ax1.set_title('Mother of god. Lets not move {0}'.format(where_it), fontsize=20)\n",
    "ax1.set_xlabel('Price', fontsize=18)\n",
    "ax1.set_ylabel('Count', fontsize=18)\n"
   ]
  },
  {
   "cell_type": "code",
   "execution_count": 203,
   "metadata": {},
   "outputs": [
    {
     "data": {
      "text/plain": [
       "<matplotlib.text.Text at 0x2c20a5344e0>"
      ]
     },
     "execution_count": 203,
     "metadata": {},
     "output_type": "execute_result"
    },
    {
     "data": {
      "image/png": "[encoded data removed]",
      "text/plain": [
       "<matplotlib.figure.Figure at 0x2c20c8d69e8>"
      ]
     },
     "metadata": {},
     "output_type": "display_data"
    }
   ],
   "source": [
    "ax1 = results.hist('price', bins=np.arange(0, 10000, 100))[0, 0]\n",
    "ax1.set_title('Mother of god. Lets not move victoria', fontsize=20)\n",
    "ax1.set_xlabel('Price', fontsize=18)\n",
    "ax1.set_ylabel('Count', fontsize=18)\n"
   ]
  },
  {
   "cell_type": "code",
   "execution_count": null,
   "metadata": {
    "collapsed": true
   },
   "outputs": [],
   "source": []
  }
 ],
 "metadata": {
  "kernelspec": {
   "display_name": "Python 3",
   "language": "python",
   "name": "python3"
  },
  "language_info": {
   "codemirror_mode": {
    "name": "ipython",
    "version": 3
   },
   "file_extension": ".py",
   "mimetype": "text/x-python",
   "name": "python",
   "nbconvert_exporter": "python",
   "pygments_lexer": "ipython3",
   "version": "3.6.1"
  }
 },
 "nbformat": 4,
 "nbformat_minor": 2
}

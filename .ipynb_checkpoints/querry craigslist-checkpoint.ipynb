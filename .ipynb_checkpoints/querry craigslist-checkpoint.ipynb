{
 "cells": [
  {
   "cell_type": "code",
   "execution_count": 1,
   "metadata": {},
   "outputs": [
    {
     "name": "stdout",
     "output_type": "stream",
     "text": [
      "Populating the interactive namespace from numpy and matplotlib\n"
     ]
    }
   ],
   "source": [
    "import pandas as pd\n",
    "%pylab inline"
   ]
  },
  {
   "cell_type": "code",
   "execution_count": 2,
   "metadata": {
    "collapsed": true
   },
   "outputs": [],
   "source": [
    "import requests"
   ]
  },
  {
   "cell_type": "code",
   "execution_count": 3,
   "metadata": {
    "collapsed": true
   },
   "outputs": [],
   "source": [
    "url_base = 'https://vancouver.craigslist.ca/search/sss'\n",
    "params = dict(search_distance=200,postal=v8k2p4)\n",
    "rsp = requests.get(url_base, params=params)"
   ]
  },
  {
   "cell_type": "code",
   "execution_count": null,
   "metadata": {
    "collapsed": true
   },
   "outputs": [],
   "source": []
  },
  {
   "cell_type": "markdown",
   "metadata": {},
   "source": [
    "Example "
   ]
  },
  {
   "cell_type": "code",
   "execution_count": 24,
   "metadata": {
    "collapsed": true
   },
   "outputs": [],
   "source": [
    "url_base = 'http://sfbay.craigslist.org/search/eby/apa'\n",
    "params = dict(bedrooms=1, is_furnished=0)\n",
    "rsp = requests.get(url_base, params=params)"
   ]
  },
  {
   "cell_type": "code",
   "execution_count": 25,
   "metadata": {},
   "outputs": [
    {
     "name": "stdout",
     "output_type": "stream",
     "text": [
      "https://sfbay.craigslist.org/search/eby/apa?bedrooms=1&is_furnished=0\n"
     ]
    }
   ],
   "source": [
    "print(rsp.url)"
   ]
  },
  {
   "cell_type": "code",
   "execution_count": 26,
   "metadata": {},
   "outputs": [
    {
     "name": "stdout",
     "output_type": "stream",
     "text": [
      "﻿<!DOCTYPE html>\n",
      "<html class=\"no-js\"><head>\n",
      "    <title>SF bay area apts/housing for rent  - craigslist</title>\n",
      "\n",
      "    <meta name=\"description\" content=\"SF bay area apts/housing for rent  - craigslist\">\n",
      "    <meta http-equiv=\"X-UA-Compatible\" content=\"IE=Edge\"/>\n",
      "    <link rel=\"canonical\" href=\"https://sfbay.craigslist.org/search/eby/apa\">\n",
      "    <link rel=\"alternate\" type=\"application/rss+xml\" href=\"https://sfbay.craigslist.org/search/eby/apa?format=rss&amp;is_furnished=0&amp;min_bedrooms=1\" title=\"RSS\n"
     ]
    }
   ],
   "source": [
    "print(rsp.text[:500])"
   ]
  },
  {
   "cell_type": "code",
   "execution_count": 27,
   "metadata": {
    "collapsed": true
   },
   "outputs": [],
   "source": [
    "from bs4 import BeautifulSoup as bs4\n"
   ]
  },
  {
   "cell_type": "code",
   "execution_count": 28,
   "metadata": {
    "collapsed": true
   },
   "outputs": [],
   "source": [
    "html = bs4(rsp.text, 'html.parser')\n"
   ]
  },
  {
   "cell_type": "code",
   "execution_count": 29,
   "metadata": {},
   "outputs": [
    {
     "name": "stdout",
     "output_type": "stream",
     "text": [
      "﻿\n",
      "<!DOCTYPE html>\n",
      "<html class=\"no-js\">\n",
      " <head>\n",
      "  <title>\n",
      "   SF bay area apts/housing for rent  - craigslist\n",
      "  </title>\n",
      "  <meta content=\"SF bay area apts/housing for rent  - craigslist\" name=\"description\"/>\n",
      "  <meta content=\"IE=Edge\" http-equiv=\"X-UA-Compatible\">\n",
      "   <link href=\"https://sfbay.craigslist.org/search/eby/apa\" rel=\"canonical\"/>\n",
      "   <link href=\"https://sfbay.craigslist.org/search/eby/apa?format=rss&amp;is_furnished=0&amp;min_bedrooms=1\" rel=\"alternate\" title=\"RSS feed for craigslist | SF bay area apts/housing for rent  - craigslist\" type=\"application/rss+xml\"/>\n",
      "   <link href=\"https://sfbay.craigslist.org/search/eby/apa?s=120&amp;is_furnished=0&amp;min_bedrooms=1\" rel=\"next\"/>\n",
      "   <meta content=\"width=device-width,initial-scale=1\" name=\"viewport\"/>\n",
      "   <link href=\"//www.craigslist.org/styles/cl.css?v=4a33eaa2c5e2f9087278bddd0bcfce91\" media=\"all\" rel=\"stylesheet\" type=\"text/css\"/>\n",
      "   <link href=\"//www.craigslist.org/styles/search.css?v=27e1d4246df60da5ffd1146d59a8107e\" media=\"all\" \n"
     ]
    }
   ],
   "source": [
    "print(html.prettify()[:1000])"
   ]
  },
  {
   "cell_type": "code",
   "execution_count": 30,
   "metadata": {},
   "outputs": [
    {
     "name": "stdout",
     "output_type": "stream",
     "text": [
      "120\n"
     ]
    }
   ],
   "source": [
    "# find_all will pull entries that fit your search criteria.\n",
    "# Note that we have to use brackets to define the `attrs` dictionary\n",
    "# Because \"class\" is a special word in python, so we need to give a string.\n",
    "apts = html.find_all('li', attrs={'class': 'result-row'})\n",
    "print(len(apts))"
   ]
  },
  {
   "cell_type": "code",
   "execution_count": 31,
   "metadata": {},
   "outputs": [
    {
     "name": "stdout",
     "output_type": "stream",
     "text": [
      "<li class=\"result-row\" data-pid=\"6369990805\">\n",
      " <a class=\"result-image gallery\" data-ids=\"1:00Q0Q_c1VKledFQY6,1:00W0W_386WLQro822,1:00m0m_aP9i6eAjFV3,1:01212_6bPL9mOUWvP,1:00p0p_igHq9wzX3uZ,1:00y0y_5QJaZ82jxX8,1:00505_jjzFqfSP35y,1:00b0b_f7c6pgBV0F1,1:00w0w_6eZgGU2rZxl,1:00m0m_bRy1VRQ36UV,1:00303_lnkdclnLRTC,1:00606_8iEfWMYZ1cy,1:00O0O_c8CPd6R6TPP,1:00x0x_iom6Q7lSpq3,1:00r0r_A6c4zTXjx2,1:00S0S_jBBJzg3il2P,1:00X0X_amC7mE4vjXh,1:00C0C_lPx1snVvNmn,1:00W0W_dG1asmZST3y,1:00g0g_7s8EFpDCUfy\" href=\"https://sfbay.craigslist.org/eby/apa/d/completely-remodeled-one/6369990805.html\">\n",
      "  <span class=\"result-price\">\n",
      "   $3995\n",
      "  </span>\n",
      " </a>\n",
      " <p class=\"result-info\">\n",
      "  <span class=\"icon icon-star\" role=\"button\">\n",
      "   <span class=\"screen-reader-text\">\n",
      "    favorite this post\n",
      "   </span>\n",
      "  </span>\n",
      "  <time class=\"result-date\" datetime=\"2017-11-15 12:15\" title=\"Wed 15 Nov 12:15:46 PM\">\n",
      "   Nov 15\n",
      "  </time>\n",
      "  <a class=\"result-title hdrlnk\" data-id=\"6369990805\" href=\"https://sfbay.craigslist.org/eby/apa/d/completely-remodeled-one/6369990805.html\">\n",
      "   Completely Remodeled One Story Home Located In Desirable Burton Valley\n",
      "  </a>\n",
      "  <span class=\"result-meta\">\n",
      "   <span class=\"result-price\">\n",
      "    $3995\n",
      "   </span>\n",
      "   <span class=\"housing\">\n",
      "    4br -\n",
      "                    1568ft\n",
      "    <sup>\n",
      "     2\n",
      "    </sup>\n",
      "    -\n",
      "   </span>\n",
      "   <span class=\"result-hood\">\n",
      "    (lafayette / orinda / moraga)\n",
      "   </span>\n",
      "   <span class=\"result-tags\">\n",
      "    pic\n",
      "    <span class=\"maptag\" data-pid=\"6369990805\">\n",
      "     map\n",
      "    </span>\n",
      "   </span>\n",
      "   <span class=\"banish icon icon-trash\" role=\"button\">\n",
      "    <span class=\"screen-reader-text\">\n",
      "     hide this posting\n",
      "    </span>\n",
      "   </span>\n",
      "   <span aria-hidden=\"true\" class=\"unbanish icon icon-trash red\" role=\"button\">\n",
      "   </span>\n",
      "   <a class=\"restore-link\" href=\"#\">\n",
      "    <span class=\"restore-narrow-text\">\n",
      "     restore\n",
      "    </span>\n",
      "    <span class=\"restore-wide-text\">\n",
      "     restore this posting\n",
      "    </span>\n",
      "   </a>\n",
      "  </span>\n",
      " </p>\n",
      "</li>\n",
      "\n"
     ]
    }
   ],
   "source": [
    "# We can see that there's a consistent structure to a listing.\n",
    "# There is a 'time', a 'name', a 'housing' field with size/n_brs, etc.\n",
    "this_appt = apts[15]\n",
    "print(this_appt.prettify())"
   ]
  },
  {
   "cell_type": "code",
   "execution_count": 86,
   "metadata": {},
   "outputs": [
    {
     "data": {
      "text/plain": [
       "'\\n                    4br -\\n                    1568ft2 -\\n                '"
      ]
     },
     "execution_count": 86,
     "metadata": {},
     "output_type": "execute_result"
    }
   ],
   "source": [
    "# So now we'll pull out a couple of things we might be interested in:\n",
    "# It looks like \"housing\" contains size information. We'll pull that.\n",
    "# Note that `findAll` returns a list, since there's only one entry in\n",
    "# this HTML, we'll just pull the first item.\n",
    "size = this_appt.findAll(attrs={'class': 'housing'})[0].text\n",
    "size"
   ]
  },
  {
   "cell_type": "code",
   "execution_count": 78,
   "metadata": {},
   "outputs": [
    {
     "name": "stdout",
     "output_type": "stream",
     "text": [
      "['4br', '1568ft2']\n"
     ]
    }
   ],
   "source": [
    "def find_size_and_brs(size):\n",
    "#     split = size.strip('-\\n').strip('/- ').split(' - ')\n",
    "    split = size.strip(' -\\n ').strip(' \\t ').strip(' ').replace('\\n','').replace('\\t','')\\\n",
    "            .replace(' ','').split('-')\n",
    "    print(split)\n",
    "    if len(split) == 2:\n",
    "        n_brs = split[0].replace('br', '')\n",
    "        this_size = split[1].replace('ft2', '')\n",
    "    elif 'br' in split[0]:\n",
    "        # It's the n_bedrooms\n",
    "        n_brs = split[0].replace('br', '')\n",
    "        this_size = np.nan\n",
    "    elif 'ft2' in split[0]:\n",
    "        # It's the size\n",
    "        this_size = split[0].replace('ft2', '')\n",
    "        n_brs = np.nan\n",
    "    return float(this_size), float(n_brs)\n",
    "this_size, n_brs = find_size_and_brs(size)"
   ]
  },
  {
   "cell_type": "code",
   "execution_count": 80,
   "metadata": {},
   "outputs": [],
   "source": [
    "# Now we'll also pull a few other things:\n",
    "this_time = this_appt.find('time')['datetime']\n",
    "this_time = pd.to_datetime(this_time)\n",
    "this_price = float(this_appt.find('span', {'class': 'result-price'}).text.strip('$'))\n",
    "this_title = this_appt.find('a', attrs={'class': 'hdrlnk'}).text"
   ]
  },
  {
   "cell_type": "code",
   "execution_count": 81,
   "metadata": {},
   "outputs": [
    {
     "name": "stdout",
     "output_type": "stream",
     "text": [
      "1568.0\n",
      "4.0\n",
      "2017-11-15 12:15:00\n",
      "3995.0\n",
      "Completely Remodeled One Story Home Located In Desirable Burton Valley\n"
     ]
    }
   ],
   "source": [
    "print('\\n'.join([str(i) for i in [this_size, n_brs, this_time, this_price, this_title]]))"
   ]
  },
  {
   "cell_type": "code",
   "execution_count": 82,
   "metadata": {
    "collapsed": true
   },
   "outputs": [],
   "source": [
    "loc_prefixes = ['eby', 'nby', 'sfc', 'sby', 'scz']"
   ]
  },
  {
   "cell_type": "code",
   "execution_count": 83,
   "metadata": {
    "collapsed": true
   },
   "outputs": [],
   "source": [
    "def find_prices(results):\n",
    "    prices = []\n",
    "    for rw in results:\n",
    "        price = rw.find('span', {'class': 'price'})\n",
    "        if price is not None:\n",
    "            price = float(price.text.strip('$'))\n",
    "        else:\n",
    "            price = np.nan\n",
    "        prices.append(price)\n",
    "    return prices\n",
    "\n",
    "def find_times(results):\n",
    "    times = []\n",
    "    for rw in apts:\n",
    "        if time is not None:\n",
    "            time = time['datetime']\n",
    "            time = pd.to_datetime(time)\n",
    "        else:\n",
    "            time = np.nan\n",
    "        times.append(time)\n",
    "    return times"
   ]
  },
  {
   "cell_type": "code",
   "execution_count": 85,
   "metadata": {},
   "outputs": [
    {
     "data": {
      "text/plain": [
       "array([  0, 100, 200])"
      ]
     },
     "execution_count": 85,
     "metadata": {},
     "output_type": "execute_result"
    }
   ],
   "source": [
    "np.arange(0, 300, 100)"
   ]
  },
  {
   "cell_type": "code",
   "execution_count": 89,
   "metadata": {
    "collapsed": true
   },
   "outputs": [],
   "source": [
    "import logging\n",
    "logging.basicConfig(level=logging.INFO)\n",
    "logging.basicConfig(level=logging.DEBUG)\n",
    "logger = logging.getLogger(__name__)\n",
    "\n",
    "\n",
    "# create a file handler\n",
    "handler = logging.FileHandler('hello.log')\n",
    "handler.setLevel(logging.INFO)\n",
    "\n",
    "# create a logging format\n",
    "formatter = logging.Formatter('%(asctime)s - %(name)s - %(levelname)s - %(message)s')\n",
    "handler.setFormatter(formatter)\n",
    "\n",
    "# add the handlers to the logger\n",
    "logger.addHandler(handler)\n",
    "\n"
   ]
  },
  {
   "cell_type": "code",
   "execution_count": 90,
   "metadata": {},
   "outputs": [
    {
     "name": "stderr",
     "output_type": "stream",
     "text": [
      "INFO:__main__:eby\n"
     ]
    },
    {
     "name": "stdout",
     "output_type": "stream",
     "text": [
      "[]\n"
     ]
    },
    {
     "ename": "ValueError",
     "evalue": "not enough values to unpack (expected 2, got 0)",
     "output_type": "error",
     "traceback": [
      "\u001b[1;31m---------------------------------------------------------------------------\u001b[0m",
      "\u001b[1;31mValueError\u001b[0m                                Traceback (most recent call last)",
      "\u001b[1;32m<ipython-input-90-c63147cbe9ea>\u001b[0m in \u001b[0;36m<module>\u001b[1;34m()\u001b[0m\n\u001b[0;32m     16\u001b[0m         \u001b[0msizes_brs\u001b[0m \u001b[1;33m=\u001b[0m \u001b[1;33m[\u001b[0m\u001b[0mfind_size_and_brs\u001b[0m\u001b[1;33m(\u001b[0m\u001b[0mstxt\u001b[0m\u001b[1;33m)\u001b[0m \u001b[1;32mfor\u001b[0m \u001b[0mstxt\u001b[0m \u001b[1;32min\u001b[0m \u001b[0msize_text\u001b[0m\u001b[1;33m]\u001b[0m\u001b[1;33m\u001b[0m\u001b[0m\n\u001b[0;32m     17\u001b[0m         \u001b[0mprint\u001b[0m\u001b[1;33m(\u001b[0m\u001b[0msizes_brs\u001b[0m\u001b[1;33m)\u001b[0m\u001b[1;33m\u001b[0m\u001b[0m\n\u001b[1;32m---> 18\u001b[1;33m         \u001b[0msizes\u001b[0m\u001b[1;33m,\u001b[0m \u001b[0mn_brs\u001b[0m \u001b[1;33m=\u001b[0m \u001b[0mzip\u001b[0m\u001b[1;33m(\u001b[0m\u001b[1;33m*\u001b[0m\u001b[0msizes_brs\u001b[0m\u001b[1;33m)\u001b[0m  \u001b[1;31m# This unzips into 2 vectors\u001b[0m\u001b[1;33m\u001b[0m\u001b[0m\n\u001b[0m\u001b[0;32m     19\u001b[0m \u001b[1;33m\u001b[0m\u001b[0m\n\u001b[0;32m     20\u001b[0m         \u001b[1;31m# Find the title and link\u001b[0m\u001b[1;33m\u001b[0m\u001b[1;33m\u001b[0m\u001b[0m\n",
      "\u001b[1;31mValueError\u001b[0m: not enough values to unpack (expected 2, got 0)"
     ]
    }
   ],
   "source": [
    "results = []  # We'll store the data here\n",
    "# Careful with this...too many queries == your IP gets banned temporarily\n",
    "search_indices = np.arange(0, 300, 100)\n",
    "for loc in loc_prefixes:\n",
    "    logger.info(loc)\n",
    "    for i in search_indices:\n",
    "        \n",
    "        url = 'http://sfbay.craigslist.org/search/{0}/apa'.format(loc)\n",
    "        logger.debug('%s iteration, url=%s', i, url)\n",
    "        resp = requests.get(url, params={'bedrooms': 1, 's': i})\n",
    "        txt = bs4(resp.text, 'html.parser')\n",
    "        apts = txt.findAll(attrs={'class': \"row\"})\n",
    "        \n",
    "        # Find the size of all entries\n",
    "        size_text = [rw.findAll(attrs={'class': 'housing'})[0].text\n",
    "                     for rw in apts]\n",
    "        sizes_brs = [find_size_and_brs(stxt) for stxt in size_text]\n",
    "        print(sizes_brs)\n",
    "        sizes, n_brs = zip(*sizes_brs)  # This unzips into 2 vectors\n",
    "     \n",
    "        # Find the title and link\n",
    "        title = [rw.find('a', attrs={'class': 'hdrlnk'}).text\n",
    "                      for rw in apts]\n",
    "        links = [rw.find('a', attrs={'class': 'hdrlnk'})['href']\n",
    "                 for rw in apts]\n",
    "        \n",
    "        # Find the time\n",
    "        time = [pd.to_datetime(rw.find('time')['datetime']) for rw in apts]\n",
    "        price = find_prices(apts)\n",
    "        \n",
    "        # We'll create a dataframe to store all the data\n",
    "        data = np.array([time, price, sizes, n_brs, title, links])\n",
    "        col_names = ['time', 'price', 'size', 'brs', 'title', 'link']\n",
    "        df = pd.DataFrame(data.T, columns=col_names)\n",
    "        df = df.set_index('time')\n",
    "        \n",
    "        # Add the location variable to all entries\n",
    "        df['loc'] = loc\n",
    "        results.append(df)"
   ]
  },
  {
   "cell_type": "code",
   "execution_count": null,
   "metadata": {
    "collapsed": true
   },
   "outputs": [],
   "source": []
  }
 ],
 "metadata": {
  "kernelspec": {
   "display_name": "Python 3",
   "language": "python",
   "name": "python3"
  },
  "language_info": {
   "codemirror_mode": {
    "name": "ipython",
    "version": 3
   },
   "file_extension": ".py",
   "mimetype": "text/x-python",
   "name": "python",
   "nbconvert_exporter": "python",
   "pygments_lexer": "ipython3",
   "version": "3.6.1"
  }
 },
 "nbformat": 4,
 "nbformat_minor": 2
}
